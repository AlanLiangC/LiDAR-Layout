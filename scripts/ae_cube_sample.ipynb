{
 "cells": [
  {
   "cell_type": "code",
   "execution_count": 1,
   "metadata": {},
   "outputs": [
    {
     "name": "stdout",
     "output_type": "stream",
     "text": [
      "To install torchsparse 1.4.0, please refer to https://github.com/mit-han-lab/torchsparse/tree/74099d10a51c71c14318bce63d6421f698b24f24\n",
      "To install torchsparse 1.4.0, please refer to https://github.com/mit-han-lab/torchsparse/tree/74099d10a51c71c14318bce63d6421f698b24f24\n",
      "Jupyter environment detected. Enabling Open3D WebVisualizer.\n",
      "[Open3D INFO] WebRTC GUI backend enabled.\n",
      "[Open3D INFO] WebRTCWindowSystem: HTTP handshake server disabled.\n"
     ]
    }
   ],
   "source": [
    "import sys\n",
    "sys.path.append('/home/alan/AlanLiang/Projects/AlanLiang/LiDAR-Layout')\n",
    "from lidm.data.nuscenes_cube_dataset import NUSC_CUBE_DATASET\n",
    "from scripts.vis_tools.functions.lidm_cond_sample import AE_Sampler\n",
    "import polyscope as ps"
   ]
  },
  {
   "cell_type": "code",
   "execution_count": 2,
   "metadata": {},
   "outputs": [
    {
     "name": "stdout",
     "output_type": "stream",
     "text": [
      "Loading model from /home/alan/AlanLiang/Projects/AlanLiang/LiDAR-Layout/models/ours/nuscenes/refine/voxel_ae/last.ckpt\n"
     ]
    },
    {
     "name": "stderr",
     "output_type": "stream",
     "text": [
      "\u001b[32m2025-04-11 15:28:51.999\u001b[0m | \u001b[1mINFO    \u001b[0m | \u001b[36mlidm.modules.xcube.sunet\u001b[0m:\u001b[36m__init__\u001b[0m:\u001b[36m240\u001b[0m - \u001b[1mlatent dim: 8\u001b[0m\n"
     ]
    }
   ],
   "source": [
    "sys.path.append('/home/alan/AlanLiang/Projects/AlanLiang/LiDAR-Layout/scripts')\n",
    "# ckpt\n",
    "ae_sampler = AE_Sampler(ckpt_path='/home/alan/AlanLiang/Projects/AlanLiang/LiDAR-Layout/models/ours/nuscenes/refine/voxel_ae/last.ckpt')\n",
    "ae_sampler.build_model()\n",
    "# dataset\n",
    "ae_sampler.data_config.update({\n",
    "    'split': 'val',\n",
    "    'data_root': '/home/alan/AlanLiang/Dataset/Nuscenes'\n",
    "})\n",
    "dataset = NUSC_CUBE_DATASET(**ae_sampler.data_config)"
   ]
  },
  {
   "cell_type": "code",
   "execution_count": 3,
   "metadata": {},
   "outputs": [],
   "source": [
    "def get_data_dict(index):\n",
    "    data_dict = dataset.collate_fn([dataset.__getitem__(index)])\n",
    "    for key, value in data_dict.items():\n",
    "        data_dict[key] = value.to('cuda')\n",
    "    return data_dict"
   ]
  },
  {
   "cell_type": "code",
   "execution_count": 4,
   "metadata": {},
   "outputs": [],
   "source": [
    "index = 0\n",
    "data_dict = get_data_dict(index)\n",
    "logs = ae_sampler.model.log_images(data_dict)"
   ]
  },
  {
   "cell_type": "code",
   "execution_count": 5,
   "metadata": {},
   "outputs": [
    {
     "name": "stdout",
     "output_type": "stream",
     "text": [
      "gt_xyz\n",
      "(11671, 3)\n",
      "\n",
      "\n",
      "pred_xyz\n",
      "(10235, 3)\n",
      "\n",
      "\n"
     ]
    }
   ],
   "source": [
    "for key, value in logs.items():\n",
    "    print(key)\n",
    "    print(value.shape)\n",
    "    print('\\n')"
   ]
  },
  {
   "cell_type": "code",
   "execution_count": 8,
   "metadata": {},
   "outputs": [],
   "source": [
    "raw_points = data_dict['points_for_cube'][:,1:].detach().cpu().numpy()\n",
    "ps.init()\n",
    "ps.set_up_dir(\"z_up\")\n",
    "ps.set_ground_plane_mode(\"none\")\n",
    "# coarse stage\n",
    "pred_xyz = logs[\"pred_xyz\"]\n",
    "ps.register_point_cloud(f\"Pred Point\", pred_xyz)\n",
    "# ps.register_point_cloud(f\"GT Point\", raw_points)\n",
    "ps.show()"
   ]
  },
  {
   "cell_type": "code",
   "execution_count": 7,
   "metadata": {},
   "outputs": [],
   "source": [
    "ps.init()\n",
    "ps.set_up_dir(\"z_up\")\n",
    "ps.set_ground_plane_mode(\"none\")\n",
    "gt_xyz = logs[\"gt_xyz\"]\n",
    "ps.register_point_cloud(f\"GT Point\", gt_xyz)\n",
    "ps.show()"
   ]
  },
  {
   "cell_type": "code",
   "execution_count": 9,
   "metadata": {},
   "outputs": [
    {
     "data": {
      "text/plain": [
       "torch.Size([34277, 3])"
      ]
     },
     "execution_count": 9,
     "metadata": {},
     "output_type": "execute_result"
    }
   ],
   "source": [
    "data_dict['points_for_cube'][:,1:].shape"
   ]
  },
  {
   "cell_type": "code",
   "execution_count": null,
   "metadata": {},
   "outputs": [],
   "source": []
  }
 ],
 "metadata": {
  "kernelspec": {
   "display_name": "scenegen",
   "language": "python",
   "name": "python3"
  },
  "language_info": {
   "codemirror_mode": {
    "name": "ipython",
    "version": 3
   },
   "file_extension": ".py",
   "mimetype": "text/x-python",
   "name": "python",
   "nbconvert_exporter": "python",
   "pygments_lexer": "ipython3",
   "version": "3.10.0"
  }
 },
 "nbformat": 4,
 "nbformat_minor": 2
}
